{
 "cells": [
  {
   "cell_type": "code",
   "execution_count": 1,
   "metadata": {},
   "outputs": [],
   "source": [
    "import matplotlib.pyplot as plt\n",
    "import numpy as np\n",
    "import pandas as pd\n",
    "from mpl_toolkits.axes_grid1 import make_axes_locatable"
   ]
  },
  {
   "cell_type": "code",
   "execution_count": 47,
   "metadata": {},
   "outputs": [],
   "source": [
    "data_RENO = pd.read_table('reno_data_cal.dat', names=['s22t13','dmee','ji'],delim_whitespace=True)\n",
    "ji_min=data_RENO['ji'].min()\n",
    "data_RENO['ji']=data_RENO['ji']-ji_min\n",
    "min_data=pd.read_table('min_param_reno_data_cal.dat', names=['ji','s2','dm'],delim_whitespace=True)"
   ]
  },
  {
   "cell_type": "code",
   "execution_count": null,
   "metadata": {},
   "outputs": [],
   "source": [
    "\n"
   ]
  },
  {
   "cell_type": "code",
   "execution_count": 3,
   "metadata": {},
   "outputs": [],
   "source": [
    "data_68=data_RENO[(data_RENO['ji'] <= 2.3) & (data_RENO['ji'] >= 2.25)]\n",
    "data_95=data_RENO[(data_RENO['ji'] <= 6.18) & (data_RENO['ji'] >= 6.10)]\n",
    "data_99=data_RENO[((data_RENO['ji'] <= 11.83) & (data_RENO['ji'] >= 11.71))]\n",
    "data_68=data_68[['s22t13','dmee']]\n",
    "data_95=data_95[['s22t13','dmee']]\n",
    "data_99=data_99[['s22t13','dmee']]\n",
    "\n"
   ]
  },
  {
   "cell_type": "code",
   "execution_count": 4,
   "metadata": {},
   "outputs": [],
   "source": [
    "data_cl68 = pd.read_table('../reno_for_global_analysis/reno_data/reno2018_cl68.csv', delim_whitespace=True)\n",
    "data_cl95 = pd.read_table('../reno_for_global_analysis/reno_data/reno2018_cl95.csv', delim_whitespace=True)\n",
    "data_cl99 = pd.read_table('../reno_for_global_analysis/reno_data/reno2018_cl99.csv', delim_whitespace=True)\n",
    "x_68=data_68['s22t13'].to_numpy()\n",
    "y_68=data_68['dmee'].to_numpy()\n",
    "\n",
    "x_95=data_95['s22t13'].to_numpy()\n",
    "y_95=data_95['dmee'].to_numpy()\n",
    "\n",
    "x_99=data_99['s22t13'].to_numpy()\n",
    "y_99=data_99['dmee'].to_numpy()\n",
    "\n",
    "\n",
    "x_cl68=data_cl68['s22t13'].to_numpy()\n",
    "y_cl68=data_cl68['dmee'].to_numpy()\n",
    "\n",
    "x_cl95=data_cl95['s22t13'].to_numpy()\n",
    "y_cl95=data_cl95['dmee'].to_numpy()\n",
    "\n",
    "x_cl99=data_cl99['s22t13'].to_numpy()\n",
    "y_cl99=data_cl99['dmee'].to_numpy()"
   ]
  },
  {
   "cell_type": "code",
   "execution_count": 5,
   "metadata": {},
   "outputs": [
    {
     "data": {
      "text/plain": [
       "(2147, 2147, 3568, 3568, 5608, 5608)"
      ]
     },
     "execution_count": 5,
     "metadata": {},
     "output_type": "execute_result"
    }
   ],
   "source": [
    "len(x_68), len(y_68),len(x_95), len(y_95),len(x_99), len(y_99)"
   ]
  },
  {
   "cell_type": "code",
   "execution_count": 6,
   "metadata": {},
   "outputs": [
    {
     "data": {
      "text/plain": [
       "(1612, 1612, 1100, 1100, 588, 588)"
      ]
     },
     "execution_count": 6,
     "metadata": {},
     "output_type": "execute_result"
    }
   ],
   "source": [
    "len(x_cl68), len(y_cl68),len(x_cl95), len(y_cl95),len(x_cl99), len(y_cl99)"
   ]
  },
  {
   "cell_type": "code",
   "execution_count": 52,
   "metadata": {},
   "outputs": [
    {
     "name": "stderr",
     "output_type": "stream",
     "text": [
      "The PostScript backend does not support transparency; partially transparent artists will be rendered opaque.\n",
      "The PostScript backend does not support transparency; partially transparent artists will be rendered opaque.\n"
     ]
    },
    {
     "data": {
      "image/png": "[encoded data removed]",
      "text/plain": [
       "<Figure size 432x288 with 1 Axes>"
      ]
     },
     "metadata": {
      "needs_background": "light"
     },
     "output_type": "display_data"
    }
   ],
   "source": [
    "fig, ax = plt.subplots()\n",
    "ax.scatter(x_cl68, y_cl68,label='68% of C.L. from RENO') # RENO DATA\n",
    "ax.scatter(x_cl95, y_cl95,label='95% of C.L. from RENO') # RENO DATA\n",
    "ax.scatter(x_cl99, y_cl99,label='99% of C.L. from RENO') # RENO DATA\n",
    "ax.scatter(x_68, y_68,s=0.5,c='black',label=r'68% of C.L. from $\\chi^2_{RENO}$')     # MY RENO DATA\n",
    "ax.scatter(x_95, y_95,s=0.5,c='darkred',  label='95% of C.L. from $\\chi^2_{RENO}$') # MY RENO DATA\n",
    "ax.scatter(x_99, y_99,s=0.5,c='red', label='99% of C.L. from $\\chi^2_{RENO}$')      # MY RENO DATA\n",
    "ax.scatter(min_data.to_numpy()[0][1], min_data.to_numpy()[0][2],marker=\"P\",c='black',label='Best fit from $\\chi^2_{RENO}$')      # MY RENO DATA\n",
    "\n",
    "\n",
    "\n",
    "\n",
    "#ax.text(0.5, 0.5, 'Preliminary', transform=ax.transAxes,fontsize=40, color='red', alpha=0.5,ha='center', va='center', rotation='30')\n",
    "ax.set_xlim(0.00, 0.2)\n",
    "ax.set_ylim(0.0017, 0.0035)\n",
    "\n",
    "ax.set_xticks([0,0.05,0.1,0.15,0.2])\n",
    "ax.set_yticks([0.002,0.0025,0.0030,0.0035])\n",
    "\n",
    "ax.set_yticklabels(['$2.0$','$2.5$','$3.0$','$3.5$'])\n",
    "\n",
    "lgnd=ax.legend()\n",
    "\n",
    "# Plot legend.\n",
    "lgnd = plt.legend(loc=\"lower right\", scatterpoints=1, fontsize=8)\n",
    "lgnd.legendHandles[3]._sizes = [30]\n",
    "lgnd.legendHandles[4]._sizes = [30]\n",
    "lgnd.legendHandles[5]._sizes = [30]\n",
    "lgnd.legendHandles[6]._sizes = [30]\n",
    "\n",
    "ax.set(xlabel=r'$\\sin^2 2\\theta_{13}$', ylabel=r'$\\Delta m^2_{ee} \\hspace{0.5} [eV^{2}] \\hspace{0.5} (x10^{-3})$')\n",
    "ax.grid(True, linestyle='-')\n",
    "ax.tick_params(labelcolor='black', labelsize=10, width=1)\n",
    "fig.savefig(\"reno.eps\")\n",
    "plt.show()\n"
   ]
  },
  {
   "cell_type": "code",
   "execution_count": 8,
   "metadata": {},
   "outputs": [],
   "source": [
    "#Datos del análisis\n",
    "parabol_s2 = pd.read_table('parabol_s2_reno.dat', names=['s22t13','ji'],delim_whitespace=True)\n",
    "ji_min=parabol_s2['ji'].min()\n",
    "parabol_s2['ji']=parabol_s2['ji']-ji_min\n",
    "parabol_dmee = pd.read_table('parabol_dmee_reno.dat', names=['dmee','ji'],delim_whitespace=True)\n",
    "ji_min=parabol_dmee['ji'].min()\n",
    "parabol_dmee['ji']=parabol_dmee['ji']-ji_min"
   ]
  },
  {
   "cell_type": "code",
   "execution_count": 9,
   "metadata": {},
   "outputs": [],
   "source": [
    "dmee_dat=data_RENO['ji'].min()\n",
    "s2=0.0\n",
    "dmee=0.0\n",
    "#data_RENO\n",
    "x_s2=[]\n",
    "y_s2=[]\n",
    "x_dmee=[]\n",
    "y_dmee=[]\n",
    "for i in data_RENO.index:    \n",
    "    if (0.0 == data_RENO['ji'][i]): \n",
    "        s2  =data_RENO['s22t13'][i]\n",
    "        dmee=data_RENO['dmee'][i]\n",
    "\n",
    "for i in data_RENO.index:    \n",
    "    if (s2 == data_RENO['s22t13'][i]): \n",
    "        x_dmee.append(data_RENO['dmee'][i])\n",
    "        y_dmee.append(data_RENO['ji'][i])\n",
    "    if (dmee == data_RENO['dmee'][i]): \n",
    "        x_s2.append(data_RENO['s22t13'][i])\n",
    "        y_s2.append(data_RENO['ji'][i])\n",
    "        \n",
    "x_s2=np.array(x_s2)\n",
    "y_s2=np.array(y_s2)\n",
    "x_dmee=np.array(x_dmee)\n",
    "y_dmee=np.array(y_dmee)"
   ]
  },
  {
   "cell_type": "code",
   "execution_count": 57,
   "metadata": {},
   "outputs": [],
   "source": [
    "s2_ = pd.DataFrame(x_s2)\n",
    "dmee_ = pd.DataFrame(x_dmee)\n",
    "\n",
    "ji_s2_ = pd.DataFrame(y_s2)\n",
    "ji_dmee_ = pd.DataFrame(y_dmee)\n",
    "\n",
    "s2_parabola   = pd.concat([ji_s2_,s2_],axis=1)\n",
    "dmee_parabola = pd.concat([ji_dmee_,dmee_],axis=1)\n",
    "\n",
    "s2_parabola.to_csv('reno_s2.csv')\n",
    "dmee_parabola.to_csv('reno_dmee.csv')"
   ]
  },
  {
   "cell_type": "code",
   "execution_count": 58,
   "metadata": {},
   "outputs": [
    {
     "name": "stderr",
     "output_type": "stream",
     "text": [
      "The PostScript backend does not support transparency; partially transparent artists will be rendered opaque.\n",
      "The PostScript backend does not support transparency; partially transparent artists will be rendered opaque.\n"
     ]
    },
    {
     "data": {
      "image/png": "[encoded data removed]",
      "text/plain": [
       "<Figure size 432x288 with 1 Axes>"
      ]
     },
     "metadata": {
      "needs_background": "light"
     },
     "output_type": "display_data"
    }
   ],
   "source": [
    "fig, ax = plt.subplots()\n",
    "ax.plot(x_dmee,y_dmee,c='black',linestyle='-.',label=r'Our results')\n",
    "ax.plot(parabol_dmee['dmee'].to_numpy(),parabol_dmee['ji'].to_numpy(),linestyle='--',label=r'RENO results')\n",
    "#ax.scatter(parabol_dmee['dmee'].to_numpy(),parabol_dmee['ji'].to_numpy(),marker=\".\",label=r'RENO results')\n",
    "\n",
    "ax.legend()\n",
    "ax.set_xlim(0.002, 0.0035)\n",
    "ax.set_ylim(0.0, 6.5)\n",
    "ax.grid(True, linestyle='-')\n",
    "\n",
    "ax.set_xticks([0.002,0.0025,0.003,0.0035,])\n",
    "ax.set_yticks([1,2,3,4,5,6])\n",
    "ax.set_xticklabels(['$2.0$','$2.5$','$3.0$','$3.5$'])\n",
    "ax.set_yticklabels(['','$2$','','$4$','','$6$',''])\n",
    "\n",
    "ax.set(xlabel=r'$\\Delta m^2_{ee} \\hspace{0.5} [eV^{2}] \\hspace{0.5} (x10^{-3})$', ylabel=r'$\\Delta \\chi^2 $')\n",
    "fig.savefig(\"reno_parabol_dmee.eps\")"
   ]
  },
  {
   "cell_type": "code",
   "execution_count": 59,
   "metadata": {},
   "outputs": [
    {
     "name": "stderr",
     "output_type": "stream",
     "text": [
      "The PostScript backend does not support transparency; partially transparent artists will be rendered opaque.\n",
      "The PostScript backend does not support transparency; partially transparent artists will be rendered opaque.\n"
     ]
    },
    {
     "data": {
      "image/png": "[encoded data removed]",
      "text/plain": [
       "<Figure size 432x288 with 1 Axes>"
      ]
     },
     "metadata": {
      "needs_background": "light"
     },
     "output_type": "display_data"
    }
   ],
   "source": [
    "fig, ax = plt.subplots()\n",
    "ax.plot(x_s2,y_s2,c='black',linestyle='-.',label=r'Our results')\n",
    "ax.plot(parabol_s2['s22t13'].to_numpy(),parabol_s2['ji'].to_numpy(),linestyle='--',label=r'RENO results')\n",
    "\n",
    "ax.legend()\n",
    "ax.set_xlim(0.00, 0.2)\n",
    "ax.set_ylim(0.0, 6.5)\n",
    "ax.grid(True, linestyle='-')\n",
    "\n",
    "ax.set_xticks([0,0.05,0.1,0.15,0.2])\n",
    "ax.set_yticks([1,2,3,4,5,6])\n",
    "ax.set_xticklabels(['0','$0.05$','0.10','$0.15$','0.2'])\n",
    "ax.set_yticklabels(['','$2$','','$4$','','$6$',''])\n",
    "\n",
    "ax.set(xlabel=r'$\\sin^2 2\\theta_{13}$', ylabel=r'$\\Delta \\chi^2$')\n",
    "\n",
    "fig.savefig(\"reno_parabol_s22t13.eps\")"
   ]
  },
  {
   "cell_type": "code",
   "execution_count": 60,
   "metadata": {},
   "outputs": [
    {
     "data": {
      "text/plain": [
       "(0.00013999999999999993, 0.00013625000000000009)"
      ]
     },
     "execution_count": 60,
     "metadata": {},
     "output_type": "execute_result"
    }
   ],
   "source": [
    "dm_left=0.00254\n",
    "dm_right=0.00281625\n",
    "dm_min=min_data.to_numpy()[0][2]\n",
    "dm_sigma_left=dm_min-dm_left\n",
    "dm_sigma_right=dm_right-dm_min\n",
    "(dm_sigma_left,dm_sigma_right)"
   ]
  },
  {
   "cell_type": "code",
   "execution_count": 62,
   "metadata": {},
   "outputs": [
    {
     "data": {
      "text/plain": [
       "(0.007126908081614175, 0.007195899324412572)"
      ]
     },
     "execution_count": 62,
     "metadata": {},
     "output_type": "execute_result"
    }
   ],
   "source": [
    "s2_left=0.08248170764726462\n",
    "s2_right=0.09680451505329137\n",
    "s2_min=min_data.to_numpy()[0][1]\n",
    "\n",
    "s2_sigma_left  = s2_min   - s2_left\n",
    "s2_sigma_right = s2_right - s2_min\n",
    "\n",
    "(s2_sigma_left,s2_sigma_right)"
   ]
  },
  {
   "cell_type": "code",
   "execution_count": null,
   "metadata": {},
   "outputs": [],
   "source": [
    "# s2_sigma(0.0071,0.0072)\n",
    "# dm_sigma(0.00014,0.00014)"
   ]
  }
 ],
 "metadata": {
  "kernelspec": {
   "display_name": "Python 3",
   "language": "python",
   "name": "python3"
  },
  "language_info": {
   "codemirror_mode": {
    "name": "ipython",
    "version": 3
   },
   "file_extension": ".py",
   "mimetype": "text/x-python",
   "name": "python",
   "nbconvert_exporter": "python",
   "pygments_lexer": "ipython3",
   "version": "3.7.6"
  }
 },
 "nbformat": 4,
 "nbformat_minor": 2
}
