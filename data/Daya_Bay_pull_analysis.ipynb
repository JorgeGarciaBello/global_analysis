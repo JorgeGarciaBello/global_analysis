{
 "cells": [
  {
   "cell_type": "code",
   "execution_count": 1,
   "metadata": {},
   "outputs": [],
   "source": [
    "# Carga de librerías requeridas\n",
    "\n",
    "import matplotlib.pyplot as plt\n",
    "import numpy as np\n",
    "import pandas as pd\n",
    "from mpl_toolkits.axes_grid1 import make_axes_locatable"
   ]
  },
  {
   "cell_type": "code",
   "execution_count": 2,
   "metadata": {},
   "outputs": [],
   "source": [
    "# Cargar archivos de datos\n",
    "\n",
    "data = pd.read_table('db_data_rate_pull.dat', names=['s2','dm','ji'],delim_whitespace=True)"
   ]
  },
  {
   "cell_type": "code",
   "execution_count": 3,
   "metadata": {},
   "outputs": [
    {
     "data": {
      "text/plain": [
       "(0.08553852995673276, 0.0024842, 9.962261403590563)"
      ]
     },
     "execution_count": 3,
     "metadata": {},
     "output_type": "execute_result"
    }
   ],
   "source": [
    "# Obtención del ji minímo de los datos y sus correspondientes parámetros de oscilación\n",
    "\n",
    "s2_min = data.iloc[data['ji'].idxmin()][0]\n",
    "dm_min = data.iloc[data['ji'].idxmin()][1]\n",
    "ji_min = data.iloc[data['ji'].idxmin()][2]\n",
    "s2_min, dm_min, ji_min"
   ]
  },
  {
   "cell_type": "code",
   "execution_count": 4,
   "metadata": {},
   "outputs": [
    {
     "data": {
      "text/plain": [
       "0.0"
      ]
     },
     "execution_count": 4,
     "metadata": {},
     "output_type": "execute_result"
    }
   ],
   "source": [
    "# Restando el ji_min a la columna de ji\n",
    "data['ji']=data['ji']-ji_min\n",
    "data['ji'].min()"
   ]
  },
  {
   "cell_type": "markdown",
   "metadata": {},
   "source": [
    "# Perfil ( $\\Delta \\chi^2$, $\\sin^2 2\\theta_{13}$)"
   ]
  },
  {
   "cell_type": "code",
   "execution_count": 5,
   "metadata": {},
   "outputs": [],
   "source": [
    "# Obtención de datos para el perfil\n",
    "s2_profile = data[data['dm']==dm_min][['s2','ji']]\n",
    "parabol_s2 = pd.read_table(\"../daya_for_global_analysis/db_data/db_profile_s2.dat\", names=['s2','ji'], delim_whitespace=True)"
   ]
  },
  {
   "cell_type": "code",
   "execution_count": 6,
   "metadata": {},
   "outputs": [
    {
     "name": "stderr",
     "output_type": "stream",
     "text": [
      "The PostScript backend does not support transparency; partially transparent artists will be rendered opaque.\n",
      "The PostScript backend does not support transparency; partially transparent artists will be rendered opaque.\n"
     ]
    },
    {
     "data": {
      "image/png": "[encoded data removed]",
      "text/plain": [
       "<Figure size 576x216 with 1 Axes>"
      ]
     },
     "metadata": {
      "needs_background": "light"
     },
     "output_type": "display_data"
    }
   ],
   "source": [
    "# Gráfica de (  Δ𝜒2 ,  sin22𝜃13 )\n",
    "fig, ax = plt.subplots(figsize=(8,3))\n",
    "\n",
    "ax.plot(s2_profile['s2'].to_numpy(),s2_profile['ji'].to_numpy(),c='black',linestyle='-',label=r'Result from $\\chi^2_{cov}$')\n",
    "ax.plot(parabol_s2['s2'].to_numpy(),parabol_s2['ji'].to_numpy(),linestyle='-.',label=r'Daya Bay')\n",
    "\n",
    "ax.legend()\n",
    "ax.set_xlim(0.065, 0.105)\n",
    "ax.set_ylim(0.0, 10)\n",
    "ax.grid(True, linestyle='-')\n",
    "\n",
    "ax.set_xticks([0.07,0.075,0.08,0.085,0.09,0.095,0.1])\n",
    "ax.set_yticks([1,2,3,4,5,6,7,8,9,10])\n",
    "ax.set_xticklabels(['0.07','','$0.08$','','0.09','','$0.1$'])\n",
    "ax.set_yticklabels(['','$2$','','$4$','','$6$','','$8$','','$10$'])\n",
    "\n",
    "ax.set(xlabel=r'$\\sin^2 2\\theta_{13}$', ylabel=r'$\\Delta \\chi^2_{pull}$')\n",
    "fig.savefig(\"db_parabol_s22t13_pull.eps\")"
   ]
  },
  {
   "cell_type": "code",
   "execution_count": 7,
   "metadata": {},
   "outputs": [],
   "source": [
    "s2_profile.to_csv('db_pull_profile_s2.csv')"
   ]
  },
  {
   "cell_type": "code",
   "execution_count": 9,
   "metadata": {},
   "outputs": [
    {
     "data": {
      "text/plain": [
       "(0.00370734780657192, 0.003720063201135479)"
      ]
     },
     "execution_count": 9,
     "metadata": {},
     "output_type": "execute_result"
    }
   ],
   "source": [
    "s2_left=0.08183118215016084\n",
    "s2_right=0.08925859315786824\n",
    "\n",
    "s2_sigma_left  = s2_min   - s2_left\n",
    "s2_sigma_right = s2_right - s2_min\n",
    "\n",
    "(s2_sigma_left,s2_sigma_right)"
   ]
  },
  {
   "cell_type": "code",
   "execution_count": null,
   "metadata": {},
   "outputs": [],
   "source": []
  },
  {
   "cell_type": "code",
   "execution_count": null,
   "metadata": {},
   "outputs": [],
   "source": [
    "# (0.0036947958329506397, 0.00376823038797669)\n"
   ]
  }
 ],
 "metadata": {
  "kernelspec": {
   "display_name": "Python 3",
   "language": "python",
   "name": "python3"
  },
  "language_info": {
   "codemirror_mode": {
    "name": "ipython",
    "version": 3
   },
   "file_extension": ".py",
   "mimetype": "text/x-python",
   "name": "python",
   "nbconvert_exporter": "python",
   "pygments_lexer": "ipython3",
   "version": "3.7.6"
  }
 },
 "nbformat": 4,
 "nbformat_minor": 4
}
